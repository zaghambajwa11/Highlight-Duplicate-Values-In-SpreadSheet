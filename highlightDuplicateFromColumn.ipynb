{
  "nbformat": 4,
  "nbformat_minor": 0,
  "metadata": {
    "colab": {
      "provenance": [],
      "authorship_tag": "ABX9TyMA6K+uSO+irpy6FG57RHh5",
      "include_colab_link": true
    },
    "kernelspec": {
      "name": "python3",
      "display_name": "Python 3"
    },
    "language_info": {
      "name": "python"
    }
  },
  "cells": [
    {
      "cell_type": "markdown",
      "metadata": {
        "id": "view-in-github",
        "colab_type": "text"
      },
      "source": [
        "<a href=\"https://colab.research.google.com/github/zaghambajwa11/Highlight-Duplicate-Values-In-SpreadSheet/blob/main/highlightDuplicateFromColumn.ipynb\" target=\"_parent\"><img src=\"https://colab.research.google.com/assets/colab-badge.svg\" alt=\"Open In Colab\"/></a>"
      ]
    },
    {
      "cell_type": "code",
      "execution_count": null,
      "metadata": {
        "id": "LWbnqbgd2UZ9"
      },
      "outputs": [],
      "source": [
        "import pandas as pd\n",
        "import openpyxl\n",
        "import random\n",
        "\n",
        "def find_duplicates(xlsx_file, column_name):\n",
        "    \"\"\"\n",
        "    Finds duplicate values in an Excel file for a specific column and returns their addresses in the form of A1, B2, etc.\n",
        "    \"\"\"\n",
        "    df = pd.read_excel(xlsx_file)\n",
        "    duplicates = df.duplicated(subset=[column_name], keep=False)\n",
        "    df[column_name] = df[column_name].astype(str)  # convert column to string\n",
        "    colors = {}\n",
        "    style = df.style.apply(lambda x: [f'background-color: {colors[x.iloc[i]]}' if x.iloc[i] in colors else '' for i in range(len(x))], axis=1, subset=[column_name])\n",
        "    for index, value in df[column_name].duplicated(keep=False).items():\n",
        "        if value:\n",
        "            cell_value = df.loc[index, column_name]\n",
        "            if cell_value not in colors:\n",
        "                colors[cell_value] = f'#{random.randint(0, 0xffffff):06x}'\n",
        "    writer = pd.ExcelWriter('output.xlsx', engine='openpyxl')\n",
        "    writer.book = openpyxl.load_workbook(xlsx_file)\n",
        "    style.to_excel(writer, sheet_name='Duplicates', index=False)\n",
        "    writer.save()\n",
        "    addresses = []\n",
        "    for index, row in duplicates.items():\n",
        "        if row:\n",
        "            cell_address = openpyxl.utils.get_column_letter(df.columns.get_loc(column_name)+1) + str(index+1)\n",
        "            prev_address = openpyxl.utils.get_column_letter(df.columns.get_loc(column_name)+1) + str(df[df[column_name]==df.iloc[index][column_name]].index.tolist()[0]+1)\n",
        "            addresses.append((cell_address, prev_address))\n",
        "    return addresses\n",
        "\n",
        "# example usage\n",
        "xlsx_file = 'data.xlsx'\n",
        "column_name = 'Driver'\n",
        "addresses = find_duplicates(xlsx_file, column_name)\n",
        "if len(addresses) > 0:\n",
        "    print(f'Duplicate values found in column \"{column_name}\" at addresses:')\n",
        "    for address in addresses:\n",
        "        print(f'{address[0]} and {address[1]}')\n",
        "else:\n",
        "    print(f'No duplicate values found in column \"{column_name}\".')\n"
      ]
    }
  ]
}